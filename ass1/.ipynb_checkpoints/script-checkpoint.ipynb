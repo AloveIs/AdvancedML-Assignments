{
 "metadata": {
  "name": "",
  "signature": "sha256:870162af196caa5504196483b06ac53901c851030654536b8eff175fe00e3cb5"
 },
 "nbformat": 3,
 "nbformat_minor": 0,
 "worksheets": [
  {
   "cells": [
    {
     "cell_type": "code",
     "collapsed": false,
     "input": [
      "#%matplotlib auto\n",
      "%matplotlib inline\n",
      "\n",
      "import pylab as pb\n",
      "import numpy as np\n",
      "from math import pi,sqrt\n",
      "from scipy.spatial.distance import cdist\n",
      "from mpl_toolkits.mplot3d import Axes3D\n",
      "import matplotlib.pyplot as plt\n",
      "from matplotlib import cm\n",
      "import scipy as sp\n",
      "\n",
      "from assignment_lib import *"
     ],
     "language": "python",
     "metadata": {},
     "outputs": [],
     "prompt_number": 138
    },
    {
     "cell_type": "code",
     "collapsed": false,
     "input": [
      "def saveas(fname,dpi=200):\n",
      "    plt.savefig(fname, dpi=dpi, facecolor='w', edgecolor='w',\n",
      "        orientation='portrait', papertype=None, format=None,\n",
      "        transparent=False, bbox_inches=None, pad_inches=0.1,\n",
      "        frameon=None, metadata=None)\n",
      "    return;"
     ],
     "language": "python",
     "metadata": {},
     "outputs": [],
     "prompt_number": 100
    },
    {
     "cell_type": "markdown",
     "metadata": {},
     "source": [
      "## Part 0"
     ]
    },
    {
     "cell_type": "code",
     "collapsed": false,
     "input": [
      "fig = plt.figure()\n",
      "lim = 5\n",
      "plt.xlim(-lim, lim)\n",
      "plt.ylim(-lim, lim)\n",
      "\n",
      "\n",
      "theta = np.linspace(0,2*pi, 200)\n",
      "\n",
      "plt.gca().axhline(y=0, color='k')\n",
      "plt.gca().axvline(x=0, color='k')\n",
      "plt.gca().set_xticks(np.arange(-lim, lim, 1))\n",
      "plt.gca().set_yticks(np.arange(-lim, lim, 1))\n",
      "plt.grid()\n",
      "c = np.cos(theta)\n",
      "s = np.sin(theta)\n",
      "c1 = np.array([1,0,-1,0,1]) \n",
      "s1 = np.array([0,1,0,-1,0])\n",
      "fig.set_size_inches(7, 7)\n",
      "\n",
      "for p in [2]:\n",
      "    plt.plot(p*c,p*s)\n",
      "    plt.plot(p*c1,p*s1)\n",
      "\n",
      "#saveas(\"images/question4.pdf\",None)\n",
      "plt.show()"
     ],
     "language": "python",
     "metadata": {},
     "outputs": [
      {
       "metadata": {},
       "output_type": "display_data",
       "png": "[encoded data removed]",
       "text": [
        "<matplotlib.figure.Figure at 0x7f837159b160>"
       ]
      }
     ],
     "prompt_number": 99
    },
    {
     "cell_type": "markdown",
     "metadata": {},
     "source": [
      "## Setting up the prior"
     ]
    },
    {
     "cell_type": "code",
     "collapsed": false,
     "input": [
      "def compute_prior(X,Y,mean=[0,0], var=1):\n",
      "    \n",
      "    dim = 2\n",
      "\n",
      "    factor = 1.0/(np.power((2*pi)*var,float(dim)/2))\n",
      "    \n",
      "    return factor*np.exp(-0.5*(np.power(X-mean[0],2)+np.power(Y-mean[1],2))/var)\n",
      "\n",
      "\n"
     ],
     "language": "python",
     "metadata": {},
     "outputs": [],
     "prompt_number": 6
    },
    {
     "cell_type": "code",
     "collapsed": false,
     "input": [
      "nx,ny = (100,100)\n",
      "\n",
      "x = np.linspace(-2, 2, nx)\n",
      "y = np.linspace(-2, 2, ny)\n",
      "\n",
      "X,Y = np.meshgrid(x,y)\n",
      "Z = compute_prior(X,Y)\n",
      "\n",
      "\n",
      "# Create figure\n",
      "fig = plt.figure()\n",
      "ax = fig.gca(projection='3d')\n",
      "\n",
      "# Plot the surface.\n",
      "surf = ax.plot_surface(X, Y, Z, cmap=cm.coolwarm,\n",
      "                       linewidth=0, antialiased=False)\n",
      "fig.colorbar(surf, shrink=0.5, aspect=5)\n",
      "\n",
      "plt.show()"
     ],
     "language": "python",
     "metadata": {},
     "outputs": [],
     "prompt_number": 7
    },
    {
     "cell_type": "code",
     "collapsed": false,
     "input": [
      "ctour = plt.contourf(X,Y,Z)\n",
      "cbar = plt.colorbar(ctour)\n",
      "plt.title(\"Prior over $W$\")\n",
      "plt.xlabel(\"$w_1$\")\n",
      "plt.ylabel(\"$w_2$\")\n",
      "\n",
      "#saveas(\"images/prior.pdf\")\n",
      "plt.show()\n",
      "\n"
     ],
     "language": "python",
     "metadata": {},
     "outputs": [
      {
       "metadata": {},
       "output_type": "display_data",
       "png": "[encoded data removed]",
       "text": [
        "<matplotlib.figure.Figure at 0x7f8375af4400>"
       ]
      }
     ],
     "prompt_number": 10
    },
    {
     "cell_type": "markdown",
     "metadata": {},
     "source": [
      "## Generate Data"
     ]
    },
    {
     "cell_type": "code",
     "collapsed": false,
     "input": [
      "def compute_posterior(W0,W1,x,t,prior,var=0.3):\n",
      "    \n",
      "    dim = 1\n",
      "\n",
      "    factor = 1.0/(np.power((2*pi)*sqrt(var),float(dim)/2))\n",
      "    likelyhood = factor * np.exp(-0.5*np.multiply((W0*x+W1-t),(W0*x+W1-t))/var)  \n",
      "    return np.multiply(likelyhood,prior)\n"
     ],
     "language": "python",
     "metadata": {},
     "outputs": [],
     "prompt_number": 8
    },
    {
     "cell_type": "code",
     "collapsed": false,
     "input": [
      "n_samples = 201\n",
      "\n",
      "x = np.linspace(-2, 2, 201)\n",
      "\n",
      "# right now this is the standard deviation\n",
      "sigma = 0.7\n",
      "true_w0 = -1.5\n",
      "true_w1 = -0.5\n",
      "y = true_w0 * x + true_w1 + np.random.normal(0, sigma, 201)\n",
      "\n",
      "plt.plot(x,y)\n",
      "plt.show()"
     ],
     "language": "python",
     "metadata": {},
     "outputs": [],
     "prompt_number": 18
    },
    {
     "cell_type": "code",
     "collapsed": false,
     "input": [
      "N_samples = 5\n",
      "\n",
      "\n",
      "P =compute_prior(X,Y)\n",
      "\n",
      "sample_index = np.random.choice(201, N_samples)\n",
      "sample_x = x[sample_index]\n",
      "sample_y = y[sample_index]\n",
      "plt.plot(sample_x,sample_y,'.')\n",
      "plt.show()\n",
      "\n",
      "w0 = np.linspace(-3, 3, nx)\n",
      "w1 = np.linspace(-3, 3, ny)\n",
      "W0,W1 = np.meshgrid(w0,w1)"
     ],
     "language": "python",
     "metadata": {},
     "outputs": [],
     "prompt_number": 19
    },
    {
     "cell_type": "code",
     "collapsed": false,
     "input": [
      "from scipy.stats import multivariate_normal\n",
      "var = multivariate_normal(mean=[0,0], cov=[[1,0],[0,1]])\n",
      "var.pdf([[1,0],[1,0],[1,0]])\n"
     ],
     "language": "python",
     "metadata": {},
     "outputs": [
      {
       "metadata": {},
       "output_type": "pyout",
       "prompt_number": 14,
       "text": [
        "array([0.09653235, 0.09653235, 0.09653235])"
       ]
      }
     ],
     "prompt_number": 14
    },
    {
     "cell_type": "code",
     "collapsed": false,
     "input": [
      "from bayes_linear import *\n",
      "\n",
      "fig = plt.figure()\n",
      "prior_cov = np.eye(2)\n",
      "prior_mean = np.array([0,0])\n",
      "\n",
      "regressor = BayesLinearRegression(prior_mean,prior_cov, 1.0/(sigma*sigma)) \n",
      "Z = np.zeros([nx,ny])\n",
      "\n",
      "var = multivariate_normal(mean=regressor.prior_mean, cov=regressor.prior_cov)\n",
      "\n",
      "for k in range(nx):\n",
      "    for l in range(ny):\n",
      "        Z[k,l] = var.pdf([W0[k,l],W1[k,l]])\n",
      "\n",
      "\n",
      "plt.contourf(W0,W1,Z)\n",
      "cbar = plt.colorbar(ctour)\n",
      "plt.show()\n",
      "fig = plt.figure()\n",
      "fig.set_size_inches(15, 30)\n",
      "x = np.linspace(-3, 3, 200)\n",
      "\n",
      "true_line = -1.5*x - 0.5\n",
      "\n",
      "for i in range(N_samples):\n",
      "    plt.subplot(N_samples,2,2*i+1)\n",
      "    regressor.put_data(np.array([sample_x[i],1]),sample_y[i])\n",
      "    \n",
      "    var = multivariate_normal(mean=regressor.posterior_mean, cov=regressor.posterior_cov)\n",
      "    \n",
      "    for k in range(nx):\n",
      "        for l in range(ny):\n",
      "            Z[k,l] = var.pdf([W0[k,l],W1[k,l]])\n",
      "            \n",
      "    ax = fig.gca()\n",
      "    ax.set_xticks(np.arange(-3, 3., 1))\n",
      "    ax.set_yticks(np.arange(-3, 3., 1))\n",
      "    ctour=plt.contourf(W0,W1,Z)\n",
      "    \n",
      "    plt.plot(-1.5,-0.5,color=\"w\", marker=\"o\", markersize=10,markeredgecolor=\"k\",markeredgewidth=2)\n",
      "    plt.title(\"Posterior over $W$ after \"+ str(i+1)+\" point\")\n",
      "    plt.xlabel(\"$w_0$\")\n",
      "    plt.ylabel(\"$w_1$\")\n",
      "    plt.grid(color=\"#FFFFFF\")\n",
      "    # get samples\n",
      "    plt.subplot(N_samples,2,2*i+2)\n",
      "    plt.plot(x,true_line, linewidth=\"5\",color=\"k\",alpha= 0.3, dashes=[5, 2] ,label=\"True line\")\n",
      "    \n",
      "    for j in range(6):\n",
      "        w =  np.random.multivariate_normal(regressor.posterior_mean, regressor.posterior_cov)\n",
      "        y = w[0] * x + w[1]\n",
      "\n",
      "        plt.plot(x,y)\n",
      "        \n",
      "        plt.title(\"Sampled lines\")\n",
      "        plt.xlabel(\"$x$\")\n",
      "        plt.ylabel(\"$y$\")\n",
      "    plt.legend()\n",
      "#saveas(\"images/sampled_lines.pdf\")\n",
      "plt.show()\n",
      "    "
     ],
     "language": "python",
     "metadata": {},
     "outputs": [],
     "prompt_number": 88
    },
    {
     "cell_type": "code",
     "collapsed": false,
     "input": [
      "N_samples_new = 150\n",
      "\n",
      "\n",
      "P =compute_prior(X,Y)\n",
      "\n",
      "sample_index = np.random.choice(201, N_samples_new)\n",
      "sample_x = x[sample_index]\n",
      "sample_y = y[sample_index]\n",
      "\n",
      "fig = plt.figure()\n",
      "fig.set_size_inches((10,10))\n",
      "for i in range(N_samples_new):\n",
      "    regressor.put_data(np.array([sample_x[i],1]),sample_y[i])\n",
      "\n",
      "var = multivariate_normal(mean=regressor.posterior_mean, cov=regressor.posterior_cov)\n",
      "\n",
      "for k in range(nx):\n",
      "    for l in range(ny):\n",
      "        Z[k,l] = var.pdf([W0[k,l],W1[k,l]])\n",
      "\n",
      "ax = fig.gca()\n",
      "ax.set_xticks(np.arange(-3, 3., 1))\n",
      "ax.set_yticks(np.arange(-3, 3., 1))\n",
      "ctour=plt.contourf(W0,W1,Z)\n",
      "\n",
      "plt.plot(-1.5,-0.5,color=\"w\", marker=\"o\", markersize=10,markeredgecolor=\"k\",markeredgewidth=2)\n",
      "plt.title(\"Posterior over $W$ after \"+ str(i+1)+\" point\")\n",
      "plt.xlabel(\"$w_0$\")\n",
      "plt.ylabel(\"$w_1$\")\n",
      "plt.grid(color=\"#FFFFFF\")"
     ],
     "language": "python",
     "metadata": {},
     "outputs": [
      {
       "metadata": {},
       "output_type": "display_data",
       "png": "[encoded data removed]",
       "text": [
        "<matplotlib.figure.Figure at 0x7f83713894e0>"
       ]
      }
     ],
     "prompt_number": 65
    },
    {
     "cell_type": "code",
     "collapsed": false,
     "input": [
      "\n",
      "\n",
      "\n",
      "# for the first point\n",
      "#saveas(\"images/posterior_1.pdf\")\n",
      "Z = compute_posterior(W0,W1,sample_x[0],sample_y[0],P,var=sigma)\n",
      "\n",
      "\n",
      "fig = plt.figure()\n",
      "ax = fig.gca()\n",
      "ax.set_xticks(np.arange(-3, 3., 0.5))\n",
      "ax.set_yticks(np.arange(-3, 3., 0.5))\n",
      "ctour = plt.contourf(W0,W1,Z)\n",
      "cbar = plt.colorbar(ctour)\n",
      "plt.title(\"Posterior over $W$\")\n",
      "plt.xlabel(\"$w_0$\")\n",
      "plt.ylabel(\"$w_1$\")\n",
      "plt.plot(-1.5,-0.5,color=\"w\", marker=\"o\", markersize=10,markeredgecolor=\"k\",markeredgewidth=2)\n",
      "\n",
      "# repeat to have the subplot\n",
      "    \n",
      "fig = plt.figure()\n",
      "fig.set_size_inches(15, 15)\n",
      "for j in range(N_samples):\n",
      "    Z = compute_posterior(W0,W1,sample_x[j],sample_y[j],P,var=sigma)\n",
      "\n",
      "    plt.subplot(2,3, j+1)\n",
      "    ax = fig.gca()\n",
      "    ax.set_xticks(np.arange(-3, 3., 1))\n",
      "    ax.set_yticks(np.arange(-3, 3., 1))\n",
      "    plt.title(\"Posterior over $W$ after \"+ str(j+1)+\" point\")\n",
      "    plt.xlabel(\"$w_0$\")\n",
      "    plt.ylabel(\"$w_1$\")\n",
      "    \n",
      "    ctour = plt.contourf(W0,W1,Z)\n",
      "    plt.plot(-1.5,-0.5,color=\"w\", marker=\"o\", markersize=10,markeredgecolor=\"k\",markeredgewidth=2)\n",
      "\n",
      "    #cbar = plt.colorbar(ctour)  \n",
      "\n",
      "    plt.grid()\n",
      "    P = Z\n",
      "\n",
      "#saveas(\"images/posterior_2_v03.pdf\")\n",
      "plt.show()"
     ],
     "language": "python",
     "metadata": {},
     "outputs": [
      {
       "ename": "NameError",
       "evalue": "name 'W0' is not defined",
       "output_type": "pyerr",
       "traceback": [
        "\u001b[0;31m---------------------------------------------------------------------------\u001b[0m\n\u001b[0;31mNameError\u001b[0m                                 Traceback (most recent call last)",
        "\u001b[0;32m<ipython-input-10-953d92619fa2>\u001b[0m in \u001b[0;36m<module>\u001b[0;34m()\u001b[0m\n\u001b[1;32m      4\u001b[0m \u001b[0;31m# for the first point\u001b[0m\u001b[0;34m\u001b[0m\u001b[0;34m\u001b[0m\u001b[0m\n\u001b[1;32m      5\u001b[0m \u001b[0;31m#saveas(\"images/posterior_1.pdf\")\u001b[0m\u001b[0;34m\u001b[0m\u001b[0;34m\u001b[0m\u001b[0m\n\u001b[0;32m----> 6\u001b[0;31m \u001b[0mZ\u001b[0m \u001b[0;34m=\u001b[0m \u001b[0mcompute_posterior\u001b[0m\u001b[0;34m(\u001b[0m\u001b[0mW0\u001b[0m\u001b[0;34m,\u001b[0m\u001b[0mW1\u001b[0m\u001b[0;34m,\u001b[0m\u001b[0msample_x\u001b[0m\u001b[0;34m[\u001b[0m\u001b[0;36m0\u001b[0m\u001b[0;34m]\u001b[0m\u001b[0;34m,\u001b[0m\u001b[0msample_y\u001b[0m\u001b[0;34m[\u001b[0m\u001b[0;36m0\u001b[0m\u001b[0;34m]\u001b[0m\u001b[0;34m,\u001b[0m\u001b[0mP\u001b[0m\u001b[0;34m,\u001b[0m\u001b[0mvar\u001b[0m\u001b[0;34m=\u001b[0m\u001b[0msigma\u001b[0m\u001b[0;34m)\u001b[0m\u001b[0;34m\u001b[0m\u001b[0m\n\u001b[0m\u001b[1;32m      7\u001b[0m \u001b[0;34m\u001b[0m\u001b[0m\n\u001b[1;32m      8\u001b[0m \u001b[0;34m\u001b[0m\u001b[0m\n",
        "\u001b[0;31mNameError\u001b[0m: name 'W0' is not defined"
       ]
      }
     ],
     "prompt_number": 10
    },
    {
     "cell_type": "code",
     "collapsed": false,
     "input": [
      "N_samples = 6\n",
      "\n",
      "\n",
      "P =compute_prior(X,Y)\n",
      "\n",
      "sample_index = np.random.choice(201, N_samples)\n",
      "sample_x = x[sample_index]\n",
      "sample_y = y[sample_index]\n",
      "\n",
      "w0 = np.linspace(-3, 3, nx)\n",
      "w1 = np.linspace(-3, 3, ny)\n",
      "W0,W1 = np.meshgrid(w0,w1)\n",
      "\n",
      "\n",
      "# for the first point\n",
      "#saveas(\"images/posterior_1.pdf\")\n",
      "Z = compute_posterior(W0,W1,sample_x[0],sample_y[0],P,var=sigma)\n",
      "\n",
      "fig = plt.figure()\n",
      "ax = fig.gca()\n",
      "ax.set_xticks(np.arange(-3, 3., 0.5))\n",
      "ax.set_yticks(np.arange(-3, 3., 0.5))\n",
      "ctour = plt.contourf(W0,W1,Z)\n",
      "cbar = plt.colorbar(ctour)\n",
      "plt.title(\"Posterior over $W$\")\n",
      "plt.xlabel(\"$w_0$\")\n",
      "plt.ylabel(\"$w_1$\")\n",
      "plt.plot(-1.5,-0.5,color=\"w\", marker=\"o\", markersize=10,markeredgecolor=\"k\",markeredgewidth=2)\n",
      "\n",
      "# repeat to have the subplot\n",
      "    \n",
      "fig = plt.figure()\n",
      "fig.set_size_inches(15, 15)\n",
      "for j in range(N_samples):\n",
      "    Z = compute_posterior(W0,W1,sample_x[j],sample_y[j],P,var=sigma)\n",
      "\n",
      "    plt.subplot(2,3, j+1)\n",
      "    ax = fig.gca()\n",
      "    ax.set_xticks(np.arange(-3, 3., 1))\n",
      "    ax.set_yticks(np.arange(-3, 3., 1))\n",
      "    plt.title(\"Posterior over $W$ after \"+ str(j+1)+\" point\")\n",
      "    plt.xlabel(\"$w_0$\")\n",
      "    plt.ylabel(\"$w_1$\")\n",
      "    \n",
      "    ctour = plt.contourf(W0,W1,Z)\n",
      "    plt.plot(-1.5,-0.5,color=\"w\", marker=\"o\", markersize=10,markeredgecolor=\"k\",markeredgewidth=2)\n",
      "\n",
      "    #cbar = plt.colorbar(ctour) \n",
      "    plt.grid()\n",
      "    P = Z\n",
      "    \n",
      "    # plot some lines\n",
      "    plt.subplot(2,3,j+1)\n",
      "    \n",
      "\n",
      "#saveas(\"images/posterior_2_v03.pdf\")\n",
      "plt.show()"
     ],
     "language": "python",
     "metadata": {},
     "outputs": [],
     "prompt_number": 20
    },
    {
     "cell_type": "markdown",
     "metadata": {},
     "source": [
      "# Non parametric Regression"
     ]
    },
    {
     "cell_type": "code",
     "collapsed": false,
     "input": [
      "g = GP_prior()\n",
      "\n",
      "g.sample_function(np.array([1,2,3,4]))\n"
     ],
     "language": "python",
     "metadata": {},
     "outputs": [
      {
       "metadata": {},
       "output_type": "pyout",
       "prompt_number": 23,
       "text": [
        "array([-2.50418054,  1.10465332,  1.64720224, -0.14036872])"
       ]
      }
     ],
     "prompt_number": 23
    },
    {
     "cell_type": "code",
     "collapsed": false,
     "input": [
      "lenghtscales = [1,4,10,0.2]\n",
      "titles = [1,16,100,0.04]\n",
      "inputs = np.linspace(-2,2,100)\n",
      "\n",
      "colors = [\"#7a33d9\",\"#caf576\",\"#d5a83d\",\"#125f19\",\"#b42284\",\"#b34bec\",\"#b4b0d6\",\"#145685\",\"#50eafd\",\"#299cf6\"]\n",
      "\n",
      "fig = plt.figure()\n",
      "fig.set_size_inches(20, 20)\n",
      "\n",
      "for i in range(len(lenghtscales)):\n",
      "    g = GP_prior(1,lenghtscales[i])\n",
      "    \n",
      "    plt.subplot(2,2,i+1);\n",
      "    plt.title(\"$\\ell^2$ = \" + str(titles[i]),fontsize=20)\n",
      "    plt.xlabel(\"x\")\n",
      "    plt.ylabel(\"y\")\n",
      "    ax = plt.gca()\n",
      "    average = 0;\n",
      "    \n",
      "    for j in range(10):\n",
      "        sample = g.sample_function(inputs)\n",
      "        plt.plot(inputs,sample,color=colors[j])\n",
      "        average = average + sample\n",
      "    \n",
      "    average = average / 10.0\n",
      "    ax.plot(inputs,average,'--',color='#797979', linewidth=7,alpha=0.25,label=\"Average\")\n",
      "    ax.legend()\n",
      "    \n",
      "    \n",
      "\n",
      "#plt.savefig(\"images/gp_samples.pdf\", dpi=None, facecolor='w', edgecolor='w',orientation='portrait', papertype=None, format=None,transparent=False, bbox_inches='tight')\n",
      "\n",
      "plt.show()"
     ],
     "language": "python",
     "metadata": {},
     "outputs": [],
     "prompt_number": 37
    },
    {
     "cell_type": "code",
     "collapsed": false,
     "input": [
      "var = 3.5\n",
      "\n",
      "P = GP_posterior(var,1,1)\n",
      "\n",
      "fx = np.linspace(-4,6,100)\n",
      "fy = (2+np.power(0.5*fx-1,2)) * np.sin(3*fx)\n",
      "\n",
      "fig = plt.figure()\n",
      "ax = fig.gca()\n",
      "fig.set_size_inches(15, 15)\n",
      "\n",
      "ax.plot(fx,fy,\"k\")\n",
      "\n",
      "x,y = P.generate_data_f()\n",
      "\n",
      "ax.plot(x,y,\"or\")\n",
      "\n",
      "m = P.sample_predictive_mean(fx)\n",
      "m = np.squeeze(np.asarray(m))\n",
      "variances = np.diag(P.sample_predictive_variance(fx))\n",
      "ax.plot(fx,m,color=\"r\")\n",
      "\n",
      "\n",
      "upper_b = np.add(m,variances)\n",
      "lower_b = np.subtract(m,variances)\n",
      "\n",
      "ax.fill_between(fx,lower_b,upper_b,alpha=0.2,color='b')\n",
      "\n",
      "plt.show()\n"
     ],
     "language": "python",
     "metadata": {},
     "outputs": [],
     "prompt_number": 21
    },
    {
     "cell_type": "markdown",
     "metadata": {},
     "source": [
      "# Part II - The Posterior"
     ]
    },
    {
     "cell_type": "code",
     "collapsed": false,
     "input": [
      "W_prior_variance = 1\n",
      "\n",
      "def f_non_lin(x):\n",
      "    c1 = np.sin(x) - np.multiply(x,np.cos(x))\n",
      "    c2 = np.cos(x) - np.multiply(x,np.sin(x))\n",
      "    return np.matrix([c1,c2]).T\n",
      "\n",
      "def f_lin(x, var):\n",
      "    A = np.random.normal(0,var,20)\n",
      "    A.shape = (10,2)\n",
      "    return x*A.T\n",
      "\n",
      "def f_comp(x, var):\n",
      "    X = f_non_lin(x)\n",
      "    return X , f_lin(X, var)"
     ],
     "language": "python",
     "metadata": {},
     "outputs": [],
     "prompt_number": 48
    },
    {
     "cell_type": "code",
     "collapsed": false,
     "input": [
      "X = np.linspace(0,4*pi,200)\n",
      "X_true,Y = f_comp(X, W_prior_variance)"
     ],
     "language": "python",
     "metadata": {},
     "outputs": [],
     "prompt_number": 49
    },
    {
     "cell_type": "code",
     "collapsed": false,
     "input": [
      "import scipy as sp\n",
      "import scipy.optimize as opt\n",
      "\n",
      "def f (W,*args):\n",
      "    w = np.reshape(W,(10,2))\n",
      "    val = 0\n",
      "    \n",
      "    variance = args[0]\n",
      "    Y = args[1]\n",
      "    \n",
      "    N = Y.shape[0]\n",
      "    D = Y.shape[1]\n",
      "\n",
      "    H = np.dot(w,w.T) + variance * np.eye(D)\n",
      "\n",
      "    val = N*np.log(np.linalg.det(H)) + np.trace(np.dot(Y,np.dot(np.linalg.inv(H),Y.T)))\n",
      "    \n",
      "    # return the value of the objective at w\n",
      "    return val\n",
      "\n",
      "def sinlge_entry_matrix(shape, i,j):\n",
      "    result = np.zeros(shape)\n",
      "    result[i,j] = 1\n",
      "    return result\n",
      "\n",
      "\n",
      "def dfx (W,*args):\n",
      "    w = np.reshape(W,(10,2))\n",
      "    # return matrix of derivates\n",
      "    val = np.zeros(w.shape)\n",
      "    \n",
      "    variance = args[0]\n",
      "    Y = args[1]\n",
      "    \n",
      "    N = Y.shape[0]\n",
      "    D = Y.shape[1]\n",
      "\n",
      "    # H = inv(W*W^T + \\sigma^2 I)\n",
      "    H = np.linalg.inv( np.dot(w,w.T) + variance * np.eye(D))\n",
      "\n",
      "    i = 0\n",
      "    j = 0\n",
      "    \n",
      "    while i < w.shape[0]:\n",
      "        j = 0\n",
      "        while j < w.shape[1]:\n",
      "            dw = np.dot(sinlge_entry_matrix(w.shape, i,j), w.T)\n",
      "            derivative = np.dot(dw,dw.T)\n",
      "            # np.trace(np.dot(inv, np.dot(np.transpose(Y),Y))) \n",
      "            val[i,j] = N * np.trace(np.dot(H, dw)) + np.trace(-np.dot(Y,np.dot(-np.dot(H,np.dot(derivative,H)),Y.T)))\n",
      "            j = j + 1\n",
      "        pass\n",
      "        i = i + 1\n",
      "    \n",
      "    # return the gradient of the objective at w\n",
      "    \n",
      "    return np.reshape(val, (20,))\n",
      "\n",
      "\n",
      "w0 = np.zeros((10,2))\n",
      "w0 = np.random.normal(0,var,20)\n",
      "args= (W_prior_variance,Y)\n",
      "\n",
      "w_star = opt.fmin_cg(f , w0 , fprime = dfx, args=args)\n",
      "W_opt = np.reshape(w_star, (10,2))\n",
      "\n",
      "X_ret = np.dot(Y, np.linalg.pinv(W_opt.T))\n",
      "\n",
      "plt.figure()\n",
      "fig.set_size_inches(15, 15)\n",
      "\n",
      "plt.subplot(1,2,1)\n",
      "plt.title(\"Learned representation\")\n",
      "plt.scatter([10*X_ret[:,0]],[10*X_ret[:,1]])\n",
      "\n",
      "plt.subplot(1,2,2)\n",
      "plt.title(\"True data\")\n",
      "plt.scatter([X_true[:,0]],[X_true[:,1]], color=\"r\")\n",
      "\n",
      "#saveas(\"images/representation_learning.pdf\")\n",
      "\n",
      "plt.show()\n",
      "\n",
      "# With least square\n",
      "\n",
      "W_opt = np.reshape(w_star, (10,2))\n",
      "\n",
      "X_ret = np.dot(Y, np.linalg.pinv(np.dot(W_opt,W_opt.T)))\n",
      "plt.scatter([X_ret[:,0]],[X_ret[:,1]])\n",
      "#plt.scatter([X_true[:,0]],[X_true[:,1]], color=\"r\")\n",
      "\n",
      "plt.show()"
     ],
     "language": "python",
     "metadata": {},
     "outputs": [
      {
       "output_type": "stream",
       "stream": "stdout",
       "text": [
        "Warning: Desired error not necessarily achieved due to precision loss.\n",
        "         Current function value: 42800.170238\n",
        "         Iterations: 0\n",
        "         Function evaluations: 43\n",
        "         Gradient evaluations: 31\n"
       ]
      },
      {
       "metadata": {},
       "output_type": "display_data",
       "png": "[encoded data removed]",
       "text": [
        "<matplotlib.figure.Figure at 0x7f675d816da0>"
       ]
      },
      {
       "metadata": {},
       "output_type": "display_data",
       "png": "[encoded data removed]",
       "text": [
        "<matplotlib.figure.Figure at 0x7f675dc9af98>"
       ]
      }
     ],
     "prompt_number": 68
    },
    {
     "cell_type": "markdown",
     "metadata": {},
     "source": [
      "# Part III - The Prior"
     ]
    },
    {
     "cell_type": "code",
     "collapsed": false,
     "input": [
      "import prior as pr"
     ],
     "language": "python",
     "metadata": {},
     "outputs": [],
     "prompt_number": 92
    },
    {
     "cell_type": "code",
     "collapsed": false,
     "input": [
      "x,y = pr.create_dataset()\n",
      "\n",
      "pr.view_dataset(x, y[57,:])"
     ],
     "language": "python",
     "metadata": {},
     "outputs": [],
     "prompt_number": 93
    },
    {
     "cell_type": "code",
     "collapsed": false,
     "input": [
      "evidence = np.load(\"evidenceE7New.npy\")\n",
      "\n",
      "c = [\"k\",\"b\",\"r\",\"g\"]\n",
      "X = np.arange(1,513)\n",
      "\n",
      "fig = plt.figure()\n",
      "fig.set_size_inches(15, 6)\n",
      "plt.subplot(1,2,1)\n",
      "ax = fig.gca()\n",
      "plt.xlim(0,512)\n",
      "line, = plt.plot(X,512*[1.0/512.0],color=\"m\")\n",
      "lines = [line]\n",
      "\n",
      "\n",
      "for i in [1,2,3]:\n",
      "    line, = plt.plot(X,evidence[:,i],color=c[i])\n",
      "    lines.append(line)\n",
      "\n",
      "    \n",
      "plt.legend(lines, ['$M_0$','$M_1$','$M_2$','$M_3$','$M_4$'])\n",
      "plt.title(\"Model evidences unordered\")\n",
      "plt.xlabel(\"$D$\")\n",
      "plt.ylabel(\"$p(D|M_i)$\")\n",
      "#plt.yscale(\"log\")\n",
      "#saveas(\"images/evidence_unordered.pdf\")\n",
      "#plt.show()\n",
      "\n",
      "\n",
      "#ordering procedure\n",
      "\n",
      "\n",
      "ev_ord = (np.sum(evidence, 1)).argsort()\n",
      "ev_ord = np.flip(ev_ord)\n",
      "ordered = evidence[ev_ord,:]\n",
      "max_data = []\n",
      "min_data = []\n",
      "\n",
      "\n",
      "#fig = plt.figure()\n",
      "#fig.set_size_inches(10, 6)\n",
      "plt.subplot(1,2,2)\n",
      "ax = fig.gca()\n",
      "plt.xlim(0,512)\n",
      "\n",
      "\n",
      "line, = plt.plot(X,512*[1.0/512.0],color=\"m\")\n",
      "lines = [line]\n",
      "\n",
      "\n",
      "for i in [1,2,3]:\n",
      "    line, = plt.plot(X,ordered[:,i],color=c[i])\n",
      "    lines.append(line)\n",
      "    max_data.append(np.argmax(evidence[:,i]))\n",
      "    min_data.append(np.argmin(evidence[:,i]))\n",
      "\n",
      "    \n",
      "plt.legend(lines, ['$M_0$','$M_1$','$M_2$','$M_3$','$M_4$'])\n",
      "plt.title(\"Model evidences ordered\")\n",
      "plt.xlabel(\"$D$\")\n",
      "plt.ylabel(\"$p(D|M_i)$\")\n",
      "#plt.yscale(\"log\")\n",
      "#saveas(\"images/evidence_both.pdf\")\n",
      "plt.show()\n"
     ],
     "language": "python",
     "metadata": {},
     "outputs": [],
     "prompt_number": 89
    },
    {
     "cell_type": "code",
     "collapsed": false,
     "input": [
      "for i in [1,2,3]:\n",
      "    print(\"Model : \" + str(i) +  \" : \"+ str(np.sum(ordered[:,i])))"
     ],
     "language": "python",
     "metadata": {},
     "outputs": [
      {
       "output_type": "stream",
       "stream": "stdout",
       "text": [
        "Model : 1 : 0.9999386422840598\n",
        "Model : 2 : 0.9998509617753267\n",
        "Model : 3 : 0.9999620338979004\n"
       ]
      }
     ],
     "prompt_number": 90
    },
    {
     "cell_type": "code",
     "collapsed": false,
     "input": [
      "plt.xlim(0,512)\n",
      "\n",
      "line, = plt.plot(X,512*[1.0/512.0],color=\"m\")\n",
      "lines = [line]\n",
      "\n",
      "\n",
      "for i in [1,2,3]:\n",
      "    line, = plt.plot(X,ordered[:,i],color=c[i])\n",
      "    lines.append(line)\n",
      "    max_data.append(np.argmax(evidence[:,i]))\n",
      "    min_data.append(np.argmin(evidence[:,i]))\n",
      "\n",
      "    \n",
      "plt.legend(lines, ['$M_0$','$M_1$','$M_2$','$M_3$','$M_4$'])\n",
      "plt.title(\"Model evidences ordered, log scale\")\n",
      "plt.xlabel(\"$D$\")\n",
      "plt.ylabel(\"$p(D|M_i)$\")\n",
      "plt.yscale(\"log\")\n",
      "#saveas(\"images/evidence_closer_log.pdf\")\n",
      "plt.show()"
     ],
     "language": "python",
     "metadata": {},
     "outputs": [],
     "prompt_number": 95
    },
    {
     "cell_type": "code",
     "collapsed": false,
     "input": [
      "fig = plt.figure()\n",
      "fig.set_size_inches(15, 12)\n",
      "for i in [0,1,2]:\n",
      "    plt.subplot(2,3,i+1)\n",
      "    pr.view_dataset(x, y[max_data[i],:])\n",
      "    plt.title(\"Max $M_\" + str(i+1) + \"$\")\n",
      "    plt.xlabel(\"$x_1$\")\n",
      "    plt.ylabel(\"$x_2$\")\n",
      "    plt.subplot(2,3,3 + i +1)\n",
      "    pr.view_dataset(x, y[min_data[i],:])\n",
      "    plt.title(\"Min $M_\" + str(i+1) + \"$\")\n",
      "    plt.xlabel(\"$x_1$\")\n",
      "    plt.ylabel(\"$x_2$\")\n",
      "\n",
      "#saveas(\"images/max_min_dataset.pdf\")\n",
      "plt.show()\n",
      "    "
     ],
     "language": "python",
     "metadata": {},
     "outputs": [],
     "prompt_number": 96
    },
    {
     "cell_type": "markdown",
     "metadata": {},
     "source": [
      "### Mean $=[5,5]$"
     ]
    },
    {
     "cell_type": "code",
     "collapsed": false,
     "input": [
      "evidence = np.load(\"evidenceE6M55.npy\")\n",
      "\n",
      "c = [\"k\",\"b\",\"r\",\"g\"]\n",
      "X = np.arange(1,513)\n",
      "\n",
      "fig = plt.figure()\n",
      "fig.set_size_inches(15, 6)\n",
      "plt.subplot(1,2,1)\n",
      "ax = fig.gca()\n",
      "plt.xlim(0,512)\n",
      "line, = plt.plot(X,512*[1.0/512.0],color=\"m\")\n",
      "lines = [line]\n",
      "\n",
      "\n",
      "for i in [1,2,3]:\n",
      "    line, = plt.plot(X,evidence[:,i],color=c[i])\n",
      "    lines.append(line)\n",
      "\n",
      "    \n",
      "plt.legend(lines, ['$M_0$','$M_1$','$M_2$','$M_3$','$M_4$'])\n",
      "plt.title(\"Model evidences unordered\")\n",
      "plt.xlabel(\"$D$\")\n",
      "plt.ylabel(\"$p(D|M_i)$\")\n",
      "#plt.yscale(\"log\")\n",
      "#saveas(\"images/evidence_unordered.pdf\")\n",
      "#plt.show()\n",
      "\n",
      "\n",
      "#ordering procedure\n",
      "\n",
      "\n",
      "ev_ord = (np.sum(evidence, 1)).argsort()\n",
      "ev_ord = np.flip(ev_ord)\n",
      "ordered = evidence[ev_ord,:]\n",
      "max_data = []\n",
      "min_data = []\n",
      "\n",
      "\n",
      "#fig = plt.figure()\n",
      "#fig.set_size_inches(10, 6)\n",
      "plt.subplot(1,2,2)\n",
      "ax = fig.gca()\n",
      "plt.xlim(0,512)\n",
      "\n",
      "\n",
      "line, = plt.plot(X,512*[1.0/512.0],color=\"m\")\n",
      "lines = [line]\n",
      "\n",
      "\n",
      "for i in [1,2,3]:\n",
      "    line, = plt.plot(X,ordered[:,i],color=c[i])\n",
      "    lines.append(line)\n",
      "    max_data.append(np.argmax(evidence[:,i]))\n",
      "    min_data.append(np.argmin(evidence[:,i]))\n",
      "\n",
      "    \n",
      "plt.legend(lines, ['$M_0$','$M_1$','$M_2$','$M_3$','$M_4$'])\n",
      "plt.title(\"Model evidences ordered\")\n",
      "plt.xlabel(\"$D$\")\n",
      "plt.ylabel(\"$p(D|M_i)$\")\n",
      "#plt.yscale(\"log\")\n",
      "#saveas(\"images/evidence_m55_both.pdf\")\n",
      "plt.show()\n"
     ],
     "language": "python",
     "metadata": {},
     "outputs": [],
     "prompt_number": 71
    },
    {
     "cell_type": "code",
     "collapsed": false,
     "input": [
      "plt.xlim(0,80)\n",
      "\n",
      "line, = plt.plot(X,512*[1.0/512.0],color=\"m\")\n",
      "lines = [line]\n",
      "\n",
      "\n",
      "for i in [1,2,3]:\n",
      "    line, = plt.plot(X,ordered[:,i],color=c[i])\n",
      "    lines.append(line)\n",
      "    max_data.append(np.argmax(evidence[:,i]))\n",
      "    min_data.append(np.argmin(evidence[:,i]))\n",
      "\n",
      "    \n",
      "plt.legend(lines, ['$M_0$','$M_1$','$M_2$','$M_3$','$M_4$'])\n",
      "plt.title(\"Model evidences ordered\")\n",
      "plt.xlabel(\"$D$\")\n",
      "plt.ylabel(\"$p(D|M_i)$\")\n",
      "#plt.yscale(\"log\")\n",
      "#saveas(\"images/evidence_m55_closer.pdf\")\n",
      "plt.show()"
     ],
     "language": "python",
     "metadata": {},
     "outputs": [
      {
       "metadata": {},
       "output_type": "display_data",
       "png": "[encoded data removed]",
       "text": [
        "<matplotlib.figure.Figure at 0x7fd11eda7e80>"
       ]
      }
     ],
     "prompt_number": 43
    },
    {
     "cell_type": "markdown",
     "metadata": {},
     "source": [
      "# Varianca changed"
     ]
    },
    {
     "cell_type": "code",
     "collapsed": false,
     "input": [
      "evidence_new = np.load(\"evidenceE6COV1.npy\")\n",
      "evidence_old = np.load(\"evidenceE7New.npy\")\n",
      "c = [\"y\",\"b\",\"r\",\"g\"]\n",
      "X = np.arange(1,513)\n",
      "\n",
      "\n",
      "fig = plt.figure()\n",
      "fig.set_size_inches(15, 6)\n",
      "evidence = np.zeros([512,4])\n",
      "#ordering procedure\n",
      "evidence[:,0:2] = evidence_old[:,2:4]\n",
      "evidence[:,2:4] = evidence_new[:,2:4]\n",
      "print(evidence.shape)\n",
      "ev_ord = (np.sum(evidence, 1)).argsort()\n",
      "ev_ord = np.flip(ev_ord)\n",
      "ordered = evidence[ev_ord,:]\n",
      "max_data = []\n",
      "min_data = []\n",
      "\n",
      "#fig = plt.figure()\n",
      "#fig.set_size_inches(10, 6)\n",
      "ax = fig.gca()\n",
      "plt.xlim(0,512)\n",
      "\n",
      "\n",
      "\n",
      "lines = []\n",
      "\n",
      "\n",
      "for i in [0,1,2,3]:\n",
      "    line, = plt.plot(X,ordered[:,i],color=c[i])\n",
      "    lines.append(line)\n",
      "    max_data.append(np.argmax(evidence[:,i]))\n",
      "    min_data.append(np.argmin(evidence[:,i]))\n",
      "\n",
      "    \n",
      "plt.legend(lines, ['$M_2$','$M_3$','$M_2\\'$','$M_3\\'$'])\n",
      "plt.title(\"Model evidences ordered\")\n",
      "plt.xlabel(\"$D$\")\n",
      "plt.ylabel(\"$p(D|M_i)$\")\n",
      "#plt.yscale(\"log\")\n",
      "saveas(\"images/evidence_m55_both.pdf\")\n",
      "plt.xlim(0,80)\n",
      "plt.show()\n"
     ],
     "language": "python",
     "metadata": {},
     "outputs": [
      {
       "output_type": "stream",
       "stream": "stdout",
       "text": [
        "(512, 4)\n"
       ]
      }
     ],
     "prompt_number": 132
    },
    {
     "cell_type": "code",
     "collapsed": false,
     "input": [
      "fig = plt.figure()\n",
      "fig.set_size_inches(15, 12)\n",
      "for i in [0,1,2,3]:\n",
      "    plt.subplot(2,4,i+1)\n",
      "    pr.view_dataset(x, y[max_data[i],:])\n",
      "    plt.title(\"Max $M_\" + str(i+1) + \"$\")\n",
      "    plt.xlabel(\"$x_1$\")\n",
      "    plt.ylabel(\"$x_2$\")\n",
      "    plt.subplot(2,4,4 + i +1)\n",
      "    pr.view_dataset(x, y[min_data[i],:])\n",
      "    plt.title(\"Min $M_\" + str(i+1) + \"$\")\n",
      "    plt.xlabel(\"$x_1$\")\n",
      "    plt.ylabel(\"$x_2$\")\n",
      "\n",
      "#saveas(\"images/max_min_dataset.pdf\")\n",
      "plt.show()"
     ],
     "language": "python",
     "metadata": {},
     "outputs": [],
     "prompt_number": 137
    },
    {
     "cell_type": "markdown",
     "metadata": {},
     "source": [
      "# Effect on the prior"
     ]
    },
    {
     "cell_type": "code",
     "collapsed": false,
     "input": [
      "x = np.linspace(-5, 5, 200)\n",
      "\n",
      "fig = plt.figure()\n",
      "fig.set_size_inches(20,20)\n",
      "\n",
      "plt.subplot(1,2,1)\n",
      "plt.title(\"$\\mu=0$, $\\sigma=1$\")\n",
      "for i in range(10):\n",
      "    w = np.random.normal(0,1,3)\n",
      "    y = -w[0]/w[1]*x - w[2]/w[1]\n",
      "    plt.plot(x,y)\n",
      "plt.xlim(-5,5)\n",
      "plt.ylim(-5,5)\n",
      "plt.xlabel(\"$x$\")\n",
      "plt.ylabel(\"$y$\")\n",
      "plt.subplot(1,2,2)\n",
      "plt.title(\"$\\mu=5$, $\\sigma=1$\")\n",
      "for i in range(10):\n",
      "    w = np.random.normal(5,1,3)\n",
      "    y = -w[0]/w[1]*x - w[2]/w[1]\n",
      "    plt.plot(x,y)\n",
      "plt.xlim(-5,5)\n",
      "plt.ylim(-5,5)    \n",
      "plt.xlabel(\"$x$\")\n",
      "plt.ylabel(\"$y$\")\n",
      "plt.show()"
     ],
     "language": "python",
     "metadata": {},
     "outputs": [],
     "prompt_number": 54
    },
    {
     "cell_type": "code",
     "collapsed": false,
     "input": [
      "\n",
      "\n",
      "x = np.linspace(-5, 5, 200)\n",
      "\n",
      "fig = plt.figure()\n",
      "fig.set_size_inches(20,20)\n",
      "I =np.matrix([[1,0,0],[0,1,0],[0,0,1]])\n",
      "\n",
      "A = np.matrix([[1,1,0],[1,1,0],[0,0,1]])\n",
      "B = np.matrix([[1,0.99,0.99],[0.99,1,0.99],[0.99,0.99,1]])\n",
      "plt.subplot(1,2,1)\n",
      "for i in range(10):\n",
      "    w = np.random.multivariate_normal([0,0,0],A)\n",
      "    y = -w[0]/w[1]*x - w[2]/w[1]\n",
      "    plt.plot(x,y)\n",
      "plt.xlim(-5,5)\n",
      "plt.ylim(-5,5)\n",
      "plt.xlabel(\"$x$\")\n",
      "plt.ylabel(\"$y$\")\n",
      "plt.subplot(1,2,2)\n",
      "for i in range(20):\n",
      "    w = np.random.multivariate_normal([0,0,0],B)\n",
      "    y = -w[0]/w[1]*x - w[2]/w[1]\n",
      "    plt.plot(x,y)\n",
      "plt.xlim(-5,5)\n",
      "plt.ylim(-5,5)    \n",
      "plt.xlabel(\"$x$\")\n",
      "plt.ylabel(\"$y$\")\n",
      "plt.show()"
     ],
     "language": "python",
     "metadata": {},
     "outputs": [],
     "prompt_number": 70
    },
    {
     "cell_type": "code",
     "collapsed": false,
     "input": [
      " A = np.random.multivariate_normal([0,0], np.matrix([[1,1],[1,1]]),12)\n",
      "print(A)"
     ],
     "language": "python",
     "metadata": {},
     "outputs": [
      {
       "output_type": "stream",
       "stream": "stdout",
       "text": [
        "[[-0.48723198 -0.48723198]\n",
        " [ 1.11003028  1.11003028]\n",
        " [ 1.33361424  1.33361424]\n",
        " [-0.24559958 -0.24559958]\n",
        " [ 0.4876432   0.4876432 ]\n",
        " [ 0.43441531  0.43441531]\n",
        " [-0.41328783 -0.41328783]\n",
        " [-0.38063686 -0.38063686]\n",
        " [ 0.70092666  0.70092666]\n",
        " [ 1.3194891   1.3194891 ]\n",
        " [ 0.38347188  0.38347188]\n",
        " [ 2.01789346  2.01789346]]\n"
       ]
      }
     ],
     "prompt_number": 79
    },
    {
     "cell_type": "code",
     "collapsed": false,
     "input": [
      "B = np.matrix([[1,-0.9,-0.5],[-0.9,1,0.5],[-0.5,0.5,1]])\n",
      "np.linalg.det(B)"
     ],
     "language": "python",
     "metadata": {},
     "outputs": [
      {
       "metadata": {},
       "output_type": "pyout",
       "prompt_number": 84,
       "text": [
        "0.13999999999999999"
       ]
      }
     ],
     "prompt_number": 84
    },
    {
     "cell_type": "code",
     "collapsed": false,
     "input": [
      "B[:,1:3]"
     ],
     "language": "python",
     "metadata": {},
     "outputs": [
      {
       "metadata": {},
       "output_type": "pyout",
       "prompt_number": 130,
       "text": [
        "matrix([[-0.9, -0.5],\n",
        "        [ 1. ,  0.5],\n",
        "        [ 0.5,  1. ]])"
       ]
      }
     ],
     "prompt_number": 130
    },
    {
     "cell_type": "code",
     "collapsed": false,
     "input": [],
     "language": "python",
     "metadata": {},
     "outputs": []
    }
   ],
   "metadata": {}
  }
 ]
}